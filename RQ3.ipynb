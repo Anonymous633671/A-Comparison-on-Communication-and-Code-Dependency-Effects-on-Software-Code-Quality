{
 "cells": [
  {
   "cell_type": "code",
   "execution_count": 8,
   "metadata": {},
   "outputs": [],
   "source": [
    "#import social_interaction\n",
    "#import code_interaction\n",
    "#import buggy_commit\n",
    "import pandas as pd\n",
    "import numpy as np\n",
    "import csv\n",
    "import platform\n",
    "from os import listdir\n",
    "from os.path import isfile, join\n",
    "import matplotlib.pyplot as plt\n",
    "from sklearn.preprocessing import MinMaxScaler,KBinsDiscretizer\n",
    "import statistics\n",
    "from scipy.stats import pearsonr"
   ]
  },
  {
   "cell_type": "code",
   "execution_count": 9,
   "metadata": {},
   "outputs": [
    {
     "name": "stdout",
     "output_type": "stream",
     "text": [
      "12\n"
     ]
    }
   ],
   "source": [
    "if platform.system() == 'Darwin' or platform.system() == 'Linux':\n",
    "    _dir = 'Processed_data/'\n",
    "else:\n",
    "    _dir = 'Processed_data Data\\\\'\n",
    "Files = [join(_dir, f) for f in listdir(_dir) if isfile(join(_dir, f))]\n",
    "print(len(Files))\n",
    "actual_file = 0\n",
    "usable_files = 0\n",
    "size_s = 0\n",
    "size_m = 0\n",
    "size_l = 0\n",
    "result = []\n",
    "size = []\n",
    "total_df = pd.DataFrame()\n",
    "for file in Files:\n",
    "    try:\n",
    "        _df = []\n",
    "        actual_file += 1\n",
    "        df = pd.read_pickle(file)\n",
    "        buggy_commit_data_df = df.loc[0,'buggy_commit_data_df']\n",
    "        commit_data_df = df.loc[0,'commit_data_df']\n",
    "        commit_count = df.loc[0,'commit_count']\n",
    "        sg_data_df = df.loc[0,'sg_data_df']\n",
    "        cg_data_df = df.loc[0,'cg_data_df']\n",
    "        buggy_commit_data_df = buggy_commit_data_df.rename(columns = {'count':'buggy_commit_count'})\n",
    "        commit_data_df = commit_data_df.rename(columns = {'count':'commit_count'})\n",
    "        sg_data_df = sg_data_df.rename(columns = {'count':'sg_node_count'})\n",
    "        cg_data_df = cg_data_df.rename(columns = {'count':'cg_node_count'})\n",
    "        #print(\"social\",sg_data_df)\n",
    "        #print(\"Code\",cg_data_df)\n",
    "        #print(\"commit\",commit_data_df)\n",
    "        #print(\"Buggy\",buggy_commit_data_df)\n",
    "        if commit_data_df.shape[0] > 30:\n",
    "            size_l += 1\n",
    "        elif commit_data_df.shape[0] > 15:\n",
    "            size_m += 1\n",
    "        elif commit_data_df.shape[0] > 8:\n",
    "            size_s += 1\n",
    "        if commit_data_df.shape[0] < 8:\n",
    "            continue\n",
    "        join_df = pd.merge(cg_data_df, sg_data_df, on='committer')\n",
    "        join_df = pd.merge(join_df, buggy_commit_data_df, on='committer')\n",
    "        join_df = pd.merge(join_df, commit_data_df, on='committer')\n",
    "        join_df['buggy_percentage'] = join_df['buggy_commit_count']/join_df['commit_count']\n",
    "        join_df_temp = join_df.drop(labels=['committer','buggy_percentage','commit_count','buggy_commit_count'],axis=1)\n",
    "        scaler = MinMaxScaler()\n",
    "        join_df_temp = scaler.fit_transform(join_df_temp)\n",
    "        committer = join_df.committer.values.tolist()\n",
    "        buggy_percentage = join_df.buggy_percentage.values.tolist()\n",
    "        commit_count = join_df.commit_count.values.tolist()\n",
    "        buggy_commit_count = join_df.buggy_commit_count.values.tolist()\n",
    "        join_df = pd.DataFrame(join_df_temp,columns = ['cg_node_count','sg_node_count'])\n",
    "        join_df['committer'] = committer\n",
    "        join_df['buggy_percentage'] = buggy_percentage\n",
    "        join_df['commit_count'] = commit_count\n",
    "        join_df['buggy_commit_count'] = buggy_commit_count\n",
    "        total_df = pd.concat([total_df,join_df])\n",
    "        join_df.sort_values(by = ['cg_node_count','sg_node_count'],inplace=True,ascending=[False,True])\n",
    "        _sum = np.sort(join_df.cg_node_count)\n",
    "        #plt.plot(_sum)\n",
    "        #plt.show()\n",
    "        #print(join_df)\n",
    "        #print(file.split('/',1)[1],join_df.iloc[0:int(join_df.shape[0]*0.2)].cg_node_count.sum(),join_df.cg_node_count.sum(),\n",
    "        #     join_df.iloc[0:int(join_df.shape[0]*0.2)].cg_node_count.sum()/join_df.cg_node_count.sum(),join_df.shape[0])\n",
    "        #for i in range(cg_data_df.shape[0]):\n",
    "        #    buggy_commit_count = buggy_commit_data_df[buggy_commit_data_df['committer'] == cg_data_df.loc[i,'committer']]['count']\n",
    "        result.append(join_df.iloc[0:int(join_df.shape[0]*0.2)].commit_count.sum()/join_df.commit_count.sum())\n",
    "        size.append(join_df.shape[0])\n",
    "\n",
    "    except:\n",
    "        continue"
   ]
  },
  {
   "cell_type": "code",
   "execution_count": 10,
   "metadata": {},
   "outputs": [],
   "source": [
    "# binning together\n",
    "join_df_temp = total_df.drop(labels=['committer','buggy_percentage','commit_count','buggy_commit_count'],axis=1)\n",
    "scaler = KBinsDiscretizer(n_bins=2, encode='ordinal', strategy='kmeans')\n",
    "join_df_temp = scaler.fit_transform(join_df_temp)\n",
    "committer = total_df.committer.values.tolist()\n",
    "buggy_percentage = total_df.buggy_percentage.values.tolist()\n",
    "commit_count = total_df.commit_count.values.tolist()\n",
    "buggy_commit_count = total_df.buggy_commit_count.values.tolist()\n",
    "total_df = pd.DataFrame(join_df_temp,columns = ['cg_node_count','sg_node_count'])\n",
    "total_df['committer'] = committer\n",
    "total_df['buggy_percentage'] = buggy_percentage\n",
    "total_df['commit_count'] = commit_count\n",
    "total_df['buggy_commit_count'] = buggy_commit_count"
   ]
  },
  {
   "cell_type": "code",
   "execution_count": 11,
   "metadata": {},
   "outputs": [
    {
     "data": {
      "text/plain": [
       "(0.4012617253006687, 1.6788184580117035e-05)"
      ]
     },
     "execution_count": 11,
     "metadata": {},
     "output_type": "execute_result"
    }
   ],
   "source": [
    "pearsonr(total_df.sg_node_count.values.tolist(),total_df.cg_node_count.values.tolist())"
   ]
  },
  {
   "cell_type": "code",
   "execution_count": 12,
   "metadata": {},
   "outputs": [
    {
     "name": "stderr",
     "output_type": "stream",
     "text": [
      "/Users/suvodeepmajumder/anaconda3/lib/python3.8/site-packages/pandas/core/ops/array_ops.py:253: FutureWarning: elementwise comparison failed; returning scalar instead, but in the future will perform elementwise comparison\n",
      "  res_values = method(rvalues)\n"
     ]
    },
    {
     "name": "stdout",
     "output_type": "stream",
     "text": [
      "12\n"
     ]
    }
   ],
   "source": [
    "if platform.system() == 'Darwin' or platform.system() == 'Linux':\n",
    "    _dir = 'Processed_data/'\n",
    "else:\n",
    "    _dir = 'Processed_data Data\\\\'\n",
    "Files = [join(_dir, f) for f in listdir(_dir) if isfile(join(_dir, f))]\n",
    "df_heros = pd.read_csv('hero_list.csv')\n",
    "df_heros = df_heros[df_heros['heros_95'] == 'TRUE']\n",
    "print(len(Files))\n",
    "actual_file = 0\n",
    "usable_files = 0\n",
    "size_s = 0\n",
    "size_m = 0\n",
    "size_l = 0\n",
    "result = []\n",
    "size = []\n",
    "total_df = pd.DataFrame()\n",
    "for file in Files:\n",
    "    try:\n",
    "        _df = []\n",
    "        actual_file += 1\n",
    "        project = file.split('/')[1].split('_final')[0]\n",
    "#         if project not in df_heros.repo_name.values.tolist():\n",
    "#             print(project)\n",
    "#             continue\n",
    "        df = pd.read_pickle(file)\n",
    "        buggy_commit_data_df = df.loc[0,'buggy_commit_data_df']\n",
    "        commit_data_df = df.loc[0,'commit_data_df']\n",
    "        commit_count = df.loc[0,'commit_count']\n",
    "        sg_data_df = df.loc[0,'sg_data_df']\n",
    "        cg_data_df = df.loc[0,'cg_data_df']\n",
    "        buggy_commit_data_df = buggy_commit_data_df.rename(columns = {'count':'buggy_commit_count'})\n",
    "        commit_data_df = commit_data_df.rename(columns = {'count':'commit_count'})\n",
    "        sg_data_df = sg_data_df.rename(columns = {'count':'sg_node_count'})\n",
    "        cg_data_df = cg_data_df.rename(columns = {'count':'cg_node_count'})\n",
    "        #print(\"social\",sg_data_df)\n",
    "        #print(\"Code\",cg_data_df)\n",
    "        #print(\"commit\",commit_data_df)\n",
    "        #print(\"Buggy\",buggy_commit_data_df)\n",
    "        if commit_data_df.shape[0] > 30:\n",
    "            size_l += 1\n",
    "        elif commit_data_df.shape[0] > 15:\n",
    "            size_m += 1\n",
    "        elif commit_data_df.shape[0] > 8:\n",
    "            size_s += 1\n",
    "        if commit_data_df.shape[0] < 8:\n",
    "            continue\n",
    "        join_df = pd.merge(cg_data_df, sg_data_df, on='committer')\n",
    "        join_df = pd.merge(join_df, buggy_commit_data_df, on='committer')\n",
    "        join_df = pd.merge(join_df, commit_data_df, on='committer')\n",
    "        join_df['buggy_percentage'] = join_df['buggy_commit_count']/join_df['commit_count']\n",
    "        join_df.sort_values(by = ['cg_node_count','sg_node_count'],inplace=True,ascending=[False,True])\n",
    "        join_df_temp = join_df.drop(labels=['committer','buggy_percentage','commit_count','buggy_commit_count'],axis=1)\n",
    "        scaler = KBinsDiscretizer(n_bins=3, encode='ordinal', strategy='uniform')\n",
    "        join_df_temp = scaler.fit_transform(join_df_temp)\n",
    "        committer = join_df.committer.values.tolist()\n",
    "        buggy_percentage = join_df.buggy_percentage.values.tolist()\n",
    "        commit_count = join_df.commit_count.values.tolist()\n",
    "        buggy_commit_count = join_df.buggy_commit_count.values.tolist()\n",
    "        join_df = pd.DataFrame(join_df_temp,columns = ['cg_node_count','sg_node_count'])\n",
    "        join_df['committer'] = committer\n",
    "        join_df['buggy_percentage'] = buggy_percentage\n",
    "        join_df['commit_count'] = commit_count\n",
    "        join_df['buggy_commit_count'] = buggy_commit_count\n",
    "        total_df = pd.concat([total_df,join_df])\n",
    "    except Exception as e:\n",
    "        print(e,file)\n",
    "        continue\n",
    "total_df.reset_index(drop=True,inplace=True)"
   ]
  },
  {
   "cell_type": "code",
   "execution_count": 13,
   "metadata": {},
   "outputs": [],
   "source": [
    "HH = []\n",
    "HM = []\n",
    "HL = []\n",
    "MH = []\n",
    "MM = []\n",
    "ML = []\n",
    "LH = []\n",
    "LM = []\n",
    "LL = []\n",
    "for i in range(total_df.shape[0]):\n",
    "    if total_df.iloc[i,0] == 2:\n",
    "        if total_df.iloc[i,1] == 2:\n",
    "            HH.append(total_df.iloc[i,3])\n",
    "        elif total_df.iloc[i,1] == 1:\n",
    "            HM.append(total_df.iloc[i,3])\n",
    "        else:\n",
    "            HL.append(total_df.iloc[i,3])\n",
    "    elif total_df.iloc[i,0] == 1:\n",
    "        if total_df.iloc[i,1] == 2:\n",
    "            MH.append(total_df.iloc[i,3])\n",
    "        elif total_df.iloc[i,1] == 1:\n",
    "            MM.append(total_df.iloc[i,3])\n",
    "        else:\n",
    "            ML.append(total_df.iloc[i,3])\n",
    "    else:\n",
    "        if total_df.iloc[i,1] == 2:\n",
    "            LH.append(total_df.iloc[i,3])\n",
    "        elif total_df.iloc[i,1] == 1:\n",
    "            LM.append(total_df.iloc[i,3])\n",
    "        else:\n",
    "            LL.append(total_df.iloc[i,3])"
   ]
  },
  {
   "cell_type": "code",
   "execution_count": 14,
   "metadata": {},
   "outputs": [
    {
     "name": "stdout",
     "output_type": "stream",
     "text": [
      "HH 0.34001806684733515 8\n",
      "HM 0.3653846153846154 2\n",
      "HL 0.6 5\n",
      "MH 0.36363636363636365 1\n",
      "MM 0.2780612244897959 2\n",
      "ML 0.3055555555555556 3\n",
      "LH 0.25925925925925924 7\n",
      "LM 0.45918367346938777 5\n",
      "LL 0.5 75\n"
     ]
    }
   ],
   "source": [
    "print('HH',statistics.median(HH),len(HH))\n",
    "print('HM',statistics.median(HM),len(HM))\n",
    "print('HL',statistics.median(HL),len(HL))\n",
    "print('MH',statistics.median(MH),len(MH))\n",
    "print('MM',statistics.median(MM),len(MM))\n",
    "print('ML',statistics.median(ML),len(ML))\n",
    "print('LH',statistics.median(LH),len(LH))\n",
    "print('LM',statistics.median(LM),len(LM))\n",
    "print('LL',statistics.median(LL),len(LL))"
   ]
  },
  {
   "cell_type": "code",
   "execution_count": 32,
   "metadata": {},
   "outputs": [],
   "source": [
    "l = [HH,HM,HL,MH,MM,ML,LH,LM,LL]\n",
    "names = ['HH','HM','HL','MH','MM','ML','LH','LM','LL']\n",
    "with open('listfile.txt', 'w') as filehandle:\n",
    "    for i in range(len(l)):\n",
    "        filehandle.write('%s\\n' % names[i])\n",
    "        for listitem in l[i]:\n",
    "            filehandle.write('%s ' % listitem)\n",
    "        filehandle.write('\\n')"
   ]
  },
  {
   "cell_type": "code",
   "execution_count": null,
   "metadata": {},
   "outputs": [],
   "source": []
  }
 ],
 "metadata": {
  "kernelspec": {
   "display_name": "Python 3",
   "language": "python",
   "name": "python3"
  },
  "language_info": {
   "codemirror_mode": {
    "name": "ipython",
    "version": 3
   },
   "file_extension": ".py",
   "mimetype": "text/x-python",
   "name": "python",
   "nbconvert_exporter": "python",
   "pygments_lexer": "ipython3",
   "version": "3.8.3"
  }
 },
 "nbformat": 4,
 "nbformat_minor": 2
}
